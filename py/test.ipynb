{
 "cells": [
  {
   "cell_type": "code",
   "execution_count": null,
   "metadata": {
    "collapsed": true
   },
   "outputs": [],
   "source": [
    "import ads\n",
    "import numpy as np"
   ]
  },
  {
   "cell_type": "code",
   "execution_count": null,
   "metadata": {
    "collapsed": false
   },
   "outputs": [],
   "source": [
    "filein = open(\"test_list.txt\", \"r\")\n",
    "autores = filein.readlines()"
   ]
  },
  {
   "cell_type": "code",
   "execution_count": null,
   "metadata": {
    "collapsed": false
   },
   "outputs": [],
   "source": [
    "for autor in autores:\n",
    "    print autor.strip()"
   ]
  },
  {
   "cell_type": "code",
   "execution_count": null,
   "metadata": {
    "collapsed": false
   },
   "outputs": [],
   "source": [
    "def get_simple_stats(autor, debug=False):\n",
    "    papers = list(ads.SearchQuery(author=autor, fq=\"database:astronomy property:refereed\"))\n",
    "    citations = []\n",
    "    years = []\n",
    "    for paper in papers:\n",
    "        n_citas = paper.citation_count\n",
    "        if(debug):\n",
    "            print paper.title\n",
    "        if(n_citas>1):\n",
    "            citations.append(n_citas)\n",
    "            years.append(paper.year)\n",
    "    citations.sort(reverse=True)\n",
    "    print citations\n",
    "    H_index = 0\n",
    "    total_citations = sum(citations)\n",
    "    if(sum(citations)>0):\n",
    "        for i in range(len(citations)):\n",
    "            if(citations[i]>=(i+1)):\n",
    "                H_index = i+1\n",
    "    return min(years), max(years), total_citations, H_index"
   ]
  },
  {
   "cell_type": "code",
   "execution_count": null,
   "metadata": {
    "collapsed": false
   },
   "outputs": [],
   "source": [
    "n_list = len(autores)\n",
    "pub_index = np.zeros(n_list)\n",
    "for i in range(n_list):\n",
    "    autor = autores[i]\n",
    "    print autor.strip()\n",
    "    min_year, max_year, t, h = get_simple_stats(autor.strip())\n",
    "    print autor.strip(), min_year, max_year, t, h\n",
    "    pub_index[i] = h*1E6 + t"
   ]
  },
  {
   "cell_type": "code",
   "execution_count": null,
   "metadata": {
    "collapsed": false
   },
   "outputs": [],
   "source": []
  },
  {
   "cell_type": "code",
   "execution_count": null,
   "metadata": {
    "collapsed": true
   },
   "outputs": [],
   "source": []
  }
 ],
 "metadata": {
  "kernelspec": {
   "display_name": "Python 2",
   "language": "python",
   "name": "python2"
  },
  "language_info": {
   "codemirror_mode": {
    "name": "ipython",
    "version": 2
   },
   "file_extension": ".py",
   "mimetype": "text/x-python",
   "name": "python",
   "nbconvert_exporter": "python",
   "pygments_lexer": "ipython2",
   "version": "2.7.6"
  }
 },
 "nbformat": 4,
 "nbformat_minor": 0
}
