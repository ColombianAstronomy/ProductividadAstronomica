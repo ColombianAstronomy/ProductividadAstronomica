{
 "cells": [
  {
   "cell_type": "code",
   "execution_count": 2,
   "metadata": {
    "collapsed": true
   },
   "outputs": [],
   "source": [
    "import ads\n",
    "import numpy as np"
   ]
  },
  {
   "cell_type": "code",
   "execution_count": 24,
   "metadata": {
    "collapsed": false
   },
   "outputs": [],
   "source": [
    "year = 2016\n",
    "\n",
    "articles = ads.SearchQuery(q='aff:\"Universidad de los Andes\" database:astronomy '\\\n",
    "            'property:refereed pubdate:{0}'.format(year),\n",
    "            fl=['id', 'first_author', 'year', 'bibcode', 'identifier'],\n",
    "sort='read_count desc')"
   ]
  },
  {
   "cell_type": "code",
   "execution_count": 25,
   "metadata": {
    "collapsed": false
   },
   "outputs": [
    {
     "name": "stdout",
     "output_type": "stream",
     "text": [
      "[u'Transverse momentum spectra of inclusive b jets in pPb collisions at \\xe2\\x88\\x9a{s<SUB>NN</SUB>} = 5.02 TeV']\n",
      "Khachatryan, V.\n",
      "[u'NGC 147, NGC 185 and CassII: a genetic approach to orbital properties, star formation and tidal debris']\n",
      "Arias, Veronica\n",
      "[u'The Influential Effect of Blending, Bump, Changing Period, and Eclipsing Cepheids on the Leavitt Law']\n",
      "García-Varela, A.\n",
      "[u'SPOKES: An end-to-end simulation facility for spectroscopic cosmological surveys']\n",
      "Nord, B.\n",
      "[u'Impact of Cosmic Variance on the Galaxy-Halo Connection for Ly\\xce\\u0105 Emitters']\n",
      "Mejía-Restrepo, Julián E.\n",
      "[u'Newtonian cosmology with a quantum bounce']\n",
      "Bargueño, P.\n",
      "[u'Effective geometries and generalized uncertainty principle corrections to the Bekenstein-Hawking entropy']\n",
      "Contreras, Ernesto\n",
      "[u'Mass gap in the critical gravitational collapse of a kink']\n",
      "Barreto, W.\n",
      "[u'Direct measurement of thermal conductivity in solid iron at planetary core conditions']\n",
      "Konôpková, Zuzana\n"
     ]
    }
   ],
   "source": [
    "for paper in articles:\n",
    "    print paper.title\n",
    "    print paper.first_author"
   ]
  },
  {
   "cell_type": "code",
   "execution_count": 20,
   "metadata": {
    "collapsed": false
   },
   "outputs": [
    {
     "name": "stdout",
     "output_type": "stream",
     "text": [
      "[u'Relationship Between Chromospheric Evaporation and Magnetic Field Topology in an M-Class Solar Flare']\n",
      "Sadykov, Viacheslav M.\n",
      "[u'The grand aurorae borealis seen in Colombia in 1859']\n",
      "Moreno Cárdenas, Freddy\n",
      "[u'The Influential Effect of Blending, Bump, Changing Period, and Eclipsing Cepheids on the Leavitt Law']\n",
      "García-Varela, A.\n",
      "[u'Wormholes and nonsingular spacetimes in Palatini f (R ) gravity']\n",
      "Bambi, Cosimo\n",
      "[u'Randall\\xe2\\x94\\x80Sundrum brane Universe as a ground state for Chern\\xe2\\x94\\x80Simons gravity']\n",
      "Cordonier-Tello, Fabrizio\n",
      "[u'Impulsivity Parameter for Solar Flares']\n",
      "Fajardo-Mendieta, W. G.\n",
      "[u\"Gravitational Lensing in the Strong Field Limit for Kar's Metric\"]\n",
      "Benavides, Carlos A.\n",
      "[u'The grand aurorae borealis seen in Colombia in 1859']\n",
      "Cárdenas, Freddy Moreno\n",
      "[u'Latin American Lidar Network (LALINET) for aerosol research: Diagnosis on network instrumentation']\n",
      "Guerrero-Rascado, Juan Luis\n"
     ]
    }
   ],
   "source": [
    "articles = ads.SearchQuery(q='aff:\"Universidad Nacional de Colombia\" database:astronomy '\\\n",
    "            'property:refereed pubdate:{0}'.format(year),\n",
    "            fl=['id', 'first_author', 'year', 'bibcode', 'identifier'],\n",
    "sort='read_count desc')\n",
    "for paper in articles:\n",
    "    print paper.title\n",
    "    print paper.first_author"
   ]
  },
  {
   "cell_type": "code",
   "execution_count": 16,
   "metadata": {
    "collapsed": false
   },
   "outputs": [
    {
     "name": "stdout",
     "output_type": "stream",
     "text": [
      "[u'The Fermi-LAT gamma-ray excess at the Galactic Center in the singlet-doublet fermion dark matter model']\n",
      "Horiuchi, Shunsaku\n",
      "[u'Impact of Cosmic Variance on the Galaxy-Halo Connection for Ly\\xce\\u0105 Emitters']\n",
      "Mejía-Restrepo, Julián E.\n",
      "[u'Spatial morphology of the secondary emission in the Galactic Center gamma-ray excess']\n",
      "Lacroix, Thomas\n",
      "[u'Constraining the Radiation and Plasma Environment of the Kepler Circumbinary Habitable-zone Planets']\n",
      "Zuluaga, Jorge I.\n",
      "[u'Effects of local features of the inflaton potential on the spectrum and bispectrum of primordial perturbations']\n",
      "Cadavid, Alexander Gallego\n",
      "[u'Adiabaticity and gravity theory independent conservation laws for cosmological perturbations']\n",
      "Romano, Antonio Enea\n",
      "[u'Low-redshift effects of local structure on the Hubble parameter in presence of a cosmological constant']\n",
      "Romano, Antonio Enea\n",
      "[u'Fermion dark matter from SO(10) GUTs']\n",
      "Arbeláez, Carolina\n"
     ]
    }
   ],
   "source": [
    "articles = ads.SearchQuery(q='aff:\"Universidad de Antioquia\" database:astronomy '\\\n",
    "            'property:refereed pubdate:{0}'.format(year),\n",
    "            fl=['id', 'first_author', 'year', 'bibcode', 'identifier'],\n",
    "sort='read_count desc')\n",
    "for paper in articles:\n",
    "    print paper.title\n",
    "    print paper.first_author"
   ]
  },
  {
   "cell_type": "code",
   "execution_count": 17,
   "metadata": {
    "collapsed": false
   },
   "outputs": [
    {
     "name": "stdout",
     "output_type": "stream",
     "text": [
      "[u'Binary Neutron Star Mergers: A Jet Engine for Short Gamma-Ray Bursts']\n",
      "Ruiz, Milton\n",
      "[u'On the 4D generalized Proca action for an Abelian vector field']\n",
      "Allys, Erwan\n",
      "[u'The energy-momentum tensor for a dissipative fluid in general relativity']\n",
      "Pimentel, Oscar M.\n",
      "[u'Measurement of the Radiation Energy in the Radio Signal of Extensive Air Showers as a Universal Estimator of Cosmic-Ray Energy']\n",
      "Aab, A.\n",
      "[u'Generalized Proca action for an Abelian vector field']\n",
      "Allys, Erwan\n",
      "[u'Hidden in the background: a local approach to CMB anomalies']\n",
      "Bueno Sรกnchez, Juan C.\n",
      "[u'Non-axisymmetric relativistic wind accretion with velocity gradients on to a rotating black hole']\n",
      "Cruz-Osorio, A.\n",
      "[u'Geodesic motion in a stationary dihole spacetime']\n",
      "Dubeibe, F. L.\n",
      "[u'DBI Galileon inflation in the light of Planck 2015']\n",
      "Sravan Kumar, K.\n",
      "[u'Static thin disks with haloes as sources of conformastatic spacetimes']\n",
      "Gonzรกlez, Guillermo A.\n",
      "[u'Search for ultrarelativistic magnetic monopoles with the Pierre Auger observatory']\n",
      "Aab, A.\n"
     ]
    }
   ],
   "source": [
    "articles = ads.SearchQuery(q='aff:\"Universidad Industrial de Santander\" database:astronomy '\\\n",
    "            'property:refereed pubdate:{0}'.format(year),\n",
    "            fl=['id', 'first_author', 'year', 'bibcode', 'identifier'],\n",
    "sort='read_count desc')\n",
    "for paper in articles:\n",
    "    print paper.title\n",
    "    print paper.first_author"
   ]
  },
  {
   "cell_type": "code",
   "execution_count": 18,
   "metadata": {
    "collapsed": false
   },
   "outputs": [
    {
     "name": "stdout",
     "output_type": "stream",
     "text": [
      "[u'Phase space analysis for a scalar-tensor model with kinetic and Gauss-Bonnet couplings']\n",
      "Granda, L. N.\n",
      "[u'Hidden in the background: a local approach to CMB anomalies']\n",
      "Bueno Sรกnchez, Juan C.\n",
      "[u'DBI Galileon inflation in the light of Planck 2015']\n",
      "Sravan Kumar, K.\n"
     ]
    }
   ],
   "source": [
    "articles = ads.SearchQuery(q='aff:\"Universidad del Valle\" database:astronomy '\\\n",
    "            'property:refereed pubdate:{0}'.format(year),\n",
    "            fl=['id', 'first_author', 'year', 'bibcode', 'identifier'],\n",
    "sort='read_count desc')\n",
    "for paper in articles:\n",
    "    print paper.title\n",
    "    print paper.first_author"
   ]
  },
  {
   "cell_type": "code",
   "execution_count": 21,
   "metadata": {
    "collapsed": false
   },
   "outputs": [
    {
     "name": "stdout",
     "output_type": "stream",
     "text": [
      "[u'On the 4D generalized Proca action for an Abelian vector field']\n",
      "Allys, Erwan\n",
      "[u'Measurements of the charge asymmetry in top-quark pair production in the dilepton final state at \\xe2\\x88\\x9a{s }=8 TeV with the ATLAS detector']\n",
      "Aad, G.\n",
      "[u'Generalized Proca action for an Abelian vector field']\n",
      "Allys, Erwan\n",
      "[u'Hidden in the background: a local approach to CMB anomalies']\n",
      "Bueno Sรกnchez, Juan C.\n",
      "[u'Massive gauge-flation']\n",
      "Nieto, Carlos M.\n",
      "[u'DBI Galileon inflation in the light of Planck 2015']\n",
      "Sravan Kumar, K.\n",
      "[u'On the breaking of statistical isotropy through inflationary relics']\n",
      "Sรกnchez, Juan C. Bueno\n"
     ]
    }
   ],
   "source": [
    "articles = ads.SearchQuery(q='aff:\"Universidad Antonio\" database:astronomy '\\\n",
    "            'property:refereed pubdate:{0}'.format(year),\n",
    "            fl=['id', 'first_author', 'year', 'bibcode', 'identifier'],\n",
    "sort='read_count desc')\n",
    "for paper in articles:\n",
    "    print paper.title\n",
    "    print paper.first_author"
   ]
  },
  {
   "cell_type": "code",
   "execution_count": 11,
   "metadata": {
    "collapsed": false
   },
   "outputs": [],
   "source": [
    "citations = []\n",
    "years = []\n",
    "for paper in papers:\n",
    "    n_citas = paper.citation_count\n",
    "    if(n_citas>0):\n",
    "        citations.append(n_citas)\n",
    "        years.append(paper.year)"
   ]
  },
  {
   "cell_type": "code",
   "execution_count": 21,
   "metadata": {
    "collapsed": false
   },
   "outputs": [
    {
     "name": "stdout",
     "output_type": "stream",
     "text": [
      "[116, 80, 64, 54, 32, 25, 23, 22, 18, 16, 14, 14, 11, 11, 10, 9, 4, 4, 3, 2, 2]\n",
      "21\n"
     ]
    }
   ],
   "source": [
    "citations.sort(reverse=True)\n",
    "print citations\n",
    "print len(citations)"
   ]
  },
  {
   "cell_type": "code",
   "execution_count": 22,
   "metadata": {
    "collapsed": false
   },
   "outputs": [
    {
     "name": "stdout",
     "output_type": "stream",
     "text": [
      "12\n"
     ]
    }
   ],
   "source": [
    "H_index = 0\n",
    "for i in range(len(citations)):\n",
    "    if(citations[i]>=(i+1)):\n",
    "        H_index = i+1\n",
    "print H_index"
   ]
  },
  {
   "cell_type": "code",
   "execution_count": null,
   "metadata": {
    "collapsed": true
   },
   "outputs": [],
   "source": []
  },
  {
   "cell_type": "code",
   "execution_count": null,
   "metadata": {
    "collapsed": true
   },
   "outputs": [],
   "source": []
  }
 ],
 "metadata": {
  "kernelspec": {
   "display_name": "Python 2",
   "language": "python",
   "name": "python2"
  },
  "language_info": {
   "codemirror_mode": {
    "name": "ipython",
    "version": 2
   },
   "file_extension": ".py",
   "mimetype": "text/x-python",
   "name": "python",
   "nbconvert_exporter": "python",
   "pygments_lexer": "ipython2",
   "version": "2.7.6"
  }
 },
 "nbformat": 4,
 "nbformat_minor": 0
}
